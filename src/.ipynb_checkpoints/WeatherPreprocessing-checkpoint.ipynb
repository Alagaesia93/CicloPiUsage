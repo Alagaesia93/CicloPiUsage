{
 "cells": [
  {
   "cell_type": "code",
   "execution_count": 5,
   "metadata": {},
   "outputs": [
    {
     "name": "stdout",
     "output_type": "stream",
     "text": [
      "sto aprendo january-2015 che ha 31giorni\n",
      "sto aprendo february-2015 che ha 28giorni\n",
      "sto aprendo march-2015 che ha 31giorni\n",
      "sto aprendo april-2015 che ha 30giorni\n",
      "sto aprendo may-2015 che ha 31giorni\n",
      "sto aprendo june-2015 che ha 30giorni\n",
      "sto aprendo july-2015 che ha 31giorni\n",
      "sto aprendo august-2015 che ha 31giorni\n",
      "sto aprendo september-2015 che ha 30giorni\n",
      "sto aprendo october-2015 che ha 31giorni\n",
      "sto aprendo november-2015 che ha 30giorni\n",
      "sto aprendo december-2015 che ha 31giorni\n"
     ]
    }
   ],
   "source": [
    "import csv\n",
    "import json\n",
    "from pprint import pprint\n",
    "from dateutil.parser import parse\n",
    "\n",
    "files = ['january-2015', 'february-2015', 'march-2015', 'april-2015', 'may-2015', 'june-2015', 'july-2015', 'august-2015', 'september-2015', 'october-2015', 'november-2015', 'december-2015']\n",
    "\n",
    "myFile = open('../data/calculated/weather.csv', 'w')  \n",
    "with myFile:\n",
    "    writer = csv.writer(myFile)\n",
    "    writer.writerow([\"day\", \"day_range\", \"weather\"])\n",
    "    for file in files:\n",
    "        with open(\"../data/\"+file+\".json\") as f:\n",
    "            x = json.load(f)\n",
    "        print(\"sto aprendo \"+file+\" che ha \"+str(len(x['data']['weather']))+\"giorni\")\n",
    "        for i in range (len(x['data']['weather'])): #giorno\n",
    "            #pprint(\"giorno: \"+x['data']['weather'][i]['date'])\n",
    "            day = parse(x['data']['weather'][i]['date']).strftime(\"%d/%m/%Y\")\n",
    "            for j in range (len(x['data']['weather'][i]['hourly'])): #ora\n",
    "                #pprint(x['data']['weather'][i]['hourly'][j]['time'])\n",
    "                time = x['data']['weather'][i]['hourly'][j]['time']\n",
    "                if (len(x['data']['weather'][i]['hourly'][j]['weatherDesc'])>1):\n",
    "                    print(\"ATTENZIONE\")\n",
    "                for k in range (len(x['data']['weather'][i]['hourly'][j]['weatherDesc'])): #ora\n",
    "                    #pprint(x['data']['weather'][i]['hourly'][j]['weatherDesc'][k]['value'])\n",
    "                    weather = x['data']['weather'][i]['hourly'][j]['weatherDesc'][k]['value']\n",
    "                    writer.writerow([day, time, weather])"
   ]
  },
  {
   "cell_type": "code",
   "execution_count": null,
   "metadata": {},
   "outputs": [],
   "source": []
  }
 ],
 "metadata": {
  "kernelspec": {
   "display_name": "Python [conda env:anaconda3]",
   "language": "python",
   "name": "conda-env-anaconda3-py"
  },
  "language_info": {
   "codemirror_mode": {
    "name": "ipython",
    "version": 3
   },
   "file_extension": ".py",
   "mimetype": "text/x-python",
   "name": "python",
   "nbconvert_exporter": "python",
   "pygments_lexer": "ipython3",
   "version": "3.6.4"
  }
 },
 "nbformat": 4,
 "nbformat_minor": 2
}
